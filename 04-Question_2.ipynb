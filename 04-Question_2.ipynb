{
 "cells": [
  {
   "cell_type": "markdown",
   "metadata": {},
   "source": [
    "# <p style=\"text-align: center;\"> Final Project - Programming for Data Science</p>\n",
    "### <p style=\"text-align: center;\"> <b> Question 2: What makes artists famous?</b></p>\n",
    "\n",
    "\n",
    "---"
   ]
  },
  {
   "cell_type": "markdown",
   "metadata": {},
   "source": [
    "## Member Information\n",
    "| Name              | ID       |\n",
    "|-------------------|----------|\n",
    "| Nguyen Khanh Nhan | 21127657         |\n",
    "| Tran Dai Nien     | 21127664 |"
   ]
  },
  {
   "cell_type": "markdown",
   "metadata": {},
   "source": [
    "## Table of contents\n",
    "1. [Question](#1-question) <br> \n",
    "    1.1 [The purpose of the question](#11-the-purpose-of-the-question)<br>\n",
    "    1.2 [How to solve the question](#12-how-to-solve-the-question)\n",
    "2. [Solution](#2-solution) <br>\n",
    "    2.1 [Pre-processing data](#21-pre-processing-data)<br>\n",
    "    2.2 [Data analysis](#22-data-analysis)<br>\n",
    "    2.3 [Answer the question](#23-answer-the-question)<br>\n",
    "---"
   ]
  },
  {
   "cell_type": "markdown",
   "metadata": {},
   "source": [
    "## 1. Question"
   ]
  },
  {
   "cell_type": "markdown",
   "metadata": {},
   "source": [
    "What makes artists famous?"
   ]
  },
  {
   "cell_type": "markdown",
   "metadata": {},
   "source": [
    "### 1.1 The purpose of the question\n",
    "\n",
    "Nowadays, there are many artists that are very famous: 'Taylor Swift', 'Beyoncé', 'BTS',... Their songs are very catchy and so good that we can not help but wonder how the artist know that their songs have enough things that catch our ears. But not only aim at specific type of audience but we can see some artists, for ex, each songs of Taylor Swift has different styles but still all of them are very famous and attract wide range of audiences from all over the world.\n",
    "\n",
    "With this question, Our team hopes that some insights gain from analysing and plotting can help the researchers, artists, compososers or anyone who love musics to have some ideas behind what make the artist famous."
   ]
  },
  {
   "cell_type": "markdown",
   "metadata": {},
   "source": [
    "### 1.2 How to solve the question"
   ]
  },
  {
   "cell_type": "markdown",
   "metadata": {},
   "source": [
    "## 2. Solution"
   ]
  },
  {
   "cell_type": "markdown",
   "metadata": {},
   "source": [
    "### 2.0 Preparation"
   ]
  },
  {
   "cell_type": "markdown",
   "metadata": {},
   "source": [
    "**📚 Import libraries**"
   ]
  },
  {
   "cell_type": "code",
   "execution_count": 1,
   "metadata": {},
   "outputs": [],
   "source": [
    "import numpy as np\n",
    "import pandas as pd\n",
    "import matplotlib.pyplot as plt\n",
    "import seaborn as sns"
   ]
  },
  {
   "cell_type": "markdown",
   "metadata": {},
   "source": [
    "**📊 Get data**"
   ]
  },
  {
   "cell_type": "code",
   "execution_count": 2,
   "metadata": {},
   "outputs": [
    {
     "data": {
      "text/html": [
       "<div>\n",
       "<style scoped>\n",
       "    .dataframe tbody tr th:only-of-type {\n",
       "        vertical-align: middle;\n",
       "    }\n",
       "\n",
       "    .dataframe tbody tr th {\n",
       "        vertical-align: top;\n",
       "    }\n",
       "\n",
       "    .dataframe thead th {\n",
       "        text-align: right;\n",
       "    }\n",
       "</style>\n",
       "<table border=\"1\" class=\"dataframe\">\n",
       "  <thead>\n",
       "    <tr style=\"text-align: right;\">\n",
       "      <th></th>\n",
       "      <th>0</th>\n",
       "      <th>1</th>\n",
       "      <th>2</th>\n",
       "      <th>3</th>\n",
       "      <th>4</th>\n",
       "    </tr>\n",
       "  </thead>\n",
       "  <tbody>\n",
       "    <tr>\n",
       "      <th>track_name</th>\n",
       "      <td>Seven (feat. Latto) (Explicit Ver.)</td>\n",
       "      <td>LALA</td>\n",
       "      <td>vampire</td>\n",
       "      <td>Cruel Summer</td>\n",
       "      <td>WHERE SHE GOES</td>\n",
       "    </tr>\n",
       "    <tr>\n",
       "      <th>artist(s)_name</th>\n",
       "      <td>Latto, Jung Kook</td>\n",
       "      <td>Myke Towers</td>\n",
       "      <td>Olivia Rodrigo</td>\n",
       "      <td>Taylor Swift</td>\n",
       "      <td>Bad Bunny</td>\n",
       "    </tr>\n",
       "    <tr>\n",
       "      <th>artist_count</th>\n",
       "      <td>2</td>\n",
       "      <td>1</td>\n",
       "      <td>1</td>\n",
       "      <td>1</td>\n",
       "      <td>1</td>\n",
       "    </tr>\n",
       "    <tr>\n",
       "      <th>released_year</th>\n",
       "      <td>2023</td>\n",
       "      <td>2023</td>\n",
       "      <td>2023</td>\n",
       "      <td>2019</td>\n",
       "      <td>2023</td>\n",
       "    </tr>\n",
       "    <tr>\n",
       "      <th>released_month</th>\n",
       "      <td>7</td>\n",
       "      <td>3</td>\n",
       "      <td>6</td>\n",
       "      <td>8</td>\n",
       "      <td>5</td>\n",
       "    </tr>\n",
       "    <tr>\n",
       "      <th>released_day</th>\n",
       "      <td>14</td>\n",
       "      <td>23</td>\n",
       "      <td>30</td>\n",
       "      <td>23</td>\n",
       "      <td>18</td>\n",
       "    </tr>\n",
       "    <tr>\n",
       "      <th>in_spotify_playlists</th>\n",
       "      <td>553</td>\n",
       "      <td>1474</td>\n",
       "      <td>1397</td>\n",
       "      <td>7858</td>\n",
       "      <td>3133</td>\n",
       "    </tr>\n",
       "    <tr>\n",
       "      <th>in_spotify_charts</th>\n",
       "      <td>147.0</td>\n",
       "      <td>48.0</td>\n",
       "      <td>113.0</td>\n",
       "      <td>100.0</td>\n",
       "      <td>50.0</td>\n",
       "    </tr>\n",
       "    <tr>\n",
       "      <th>streams</th>\n",
       "      <td>141381703.0</td>\n",
       "      <td>133716286.0</td>\n",
       "      <td>140003974.0</td>\n",
       "      <td>800840817.0</td>\n",
       "      <td>303236322.0</td>\n",
       "    </tr>\n",
       "    <tr>\n",
       "      <th>in_apple_playlists</th>\n",
       "      <td>43</td>\n",
       "      <td>48</td>\n",
       "      <td>94</td>\n",
       "      <td>116</td>\n",
       "      <td>84</td>\n",
       "    </tr>\n",
       "    <tr>\n",
       "      <th>in_apple_charts</th>\n",
       "      <td>263.0</td>\n",
       "      <td>126.0</td>\n",
       "      <td>207.0</td>\n",
       "      <td>207.0</td>\n",
       "      <td>133.0</td>\n",
       "    </tr>\n",
       "    <tr>\n",
       "      <th>in_deezer_playlists</th>\n",
       "      <td>45</td>\n",
       "      <td>58</td>\n",
       "      <td>91</td>\n",
       "      <td>125</td>\n",
       "      <td>87</td>\n",
       "    </tr>\n",
       "    <tr>\n",
       "      <th>in_deezer_charts</th>\n",
       "      <td>10.0</td>\n",
       "      <td>14.0</td>\n",
       "      <td>14.0</td>\n",
       "      <td>12.0</td>\n",
       "      <td>15.0</td>\n",
       "    </tr>\n",
       "    <tr>\n",
       "      <th>in_shazam_charts</th>\n",
       "      <td>826.0</td>\n",
       "      <td>382.0</td>\n",
       "      <td>949.0</td>\n",
       "      <td>548.0</td>\n",
       "      <td>425.0</td>\n",
       "    </tr>\n",
       "    <tr>\n",
       "      <th>bpm</th>\n",
       "      <td>125</td>\n",
       "      <td>92</td>\n",
       "      <td>138</td>\n",
       "      <td>170</td>\n",
       "      <td>144</td>\n",
       "    </tr>\n",
       "    <tr>\n",
       "      <th>key</th>\n",
       "      <td>B</td>\n",
       "      <td>C#</td>\n",
       "      <td>F</td>\n",
       "      <td>A</td>\n",
       "      <td>A</td>\n",
       "    </tr>\n",
       "    <tr>\n",
       "      <th>mode</th>\n",
       "      <td>Major</td>\n",
       "      <td>Major</td>\n",
       "      <td>Major</td>\n",
       "      <td>Major</td>\n",
       "      <td>Minor</td>\n",
       "    </tr>\n",
       "    <tr>\n",
       "      <th>danceability_%</th>\n",
       "      <td>80</td>\n",
       "      <td>71</td>\n",
       "      <td>51</td>\n",
       "      <td>55</td>\n",
       "      <td>65</td>\n",
       "    </tr>\n",
       "    <tr>\n",
       "      <th>valence_%</th>\n",
       "      <td>89</td>\n",
       "      <td>61</td>\n",
       "      <td>32</td>\n",
       "      <td>58</td>\n",
       "      <td>23</td>\n",
       "    </tr>\n",
       "    <tr>\n",
       "      <th>energy_%</th>\n",
       "      <td>83</td>\n",
       "      <td>74</td>\n",
       "      <td>53</td>\n",
       "      <td>72</td>\n",
       "      <td>80</td>\n",
       "    </tr>\n",
       "    <tr>\n",
       "      <th>acousticness_%</th>\n",
       "      <td>31</td>\n",
       "      <td>7</td>\n",
       "      <td>17</td>\n",
       "      <td>11</td>\n",
       "      <td>14</td>\n",
       "    </tr>\n",
       "    <tr>\n",
       "      <th>instrumentalness_%</th>\n",
       "      <td>0</td>\n",
       "      <td>0</td>\n",
       "      <td>0</td>\n",
       "      <td>0</td>\n",
       "      <td>63</td>\n",
       "    </tr>\n",
       "    <tr>\n",
       "      <th>liveness_%</th>\n",
       "      <td>8</td>\n",
       "      <td>10</td>\n",
       "      <td>31</td>\n",
       "      <td>11</td>\n",
       "      <td>11</td>\n",
       "    </tr>\n",
       "    <tr>\n",
       "      <th>speechiness_%</th>\n",
       "      <td>4</td>\n",
       "      <td>4</td>\n",
       "      <td>6</td>\n",
       "      <td>15</td>\n",
       "      <td>6</td>\n",
       "    </tr>\n",
       "  </tbody>\n",
       "</table>\n",
       "</div>"
      ],
      "text/plain": [
       "                                                        0            1  \\\n",
       "track_name            Seven (feat. Latto) (Explicit Ver.)         LALA   \n",
       "artist(s)_name                           Latto, Jung Kook  Myke Towers   \n",
       "artist_count                                            2            1   \n",
       "released_year                                        2023         2023   \n",
       "released_month                                          7            3   \n",
       "released_day                                           14           23   \n",
       "in_spotify_playlists                                  553         1474   \n",
       "in_spotify_charts                                   147.0         48.0   \n",
       "streams                                       141381703.0  133716286.0   \n",
       "in_apple_playlists                                     43           48   \n",
       "in_apple_charts                                     263.0        126.0   \n",
       "in_deezer_playlists                                    45           58   \n",
       "in_deezer_charts                                     10.0         14.0   \n",
       "in_shazam_charts                                    826.0        382.0   \n",
       "bpm                                                   125           92   \n",
       "key                                                     B           C#   \n",
       "mode                                                Major        Major   \n",
       "danceability_%                                         80           71   \n",
       "valence_%                                              89           61   \n",
       "energy_%                                               83           74   \n",
       "acousticness_%                                         31            7   \n",
       "instrumentalness_%                                      0            0   \n",
       "liveness_%                                              8           10   \n",
       "speechiness_%                                           4            4   \n",
       "\n",
       "                                   2             3               4  \n",
       "track_name                   vampire  Cruel Summer  WHERE SHE GOES  \n",
       "artist(s)_name        Olivia Rodrigo  Taylor Swift       Bad Bunny  \n",
       "artist_count                       1             1               1  \n",
       "released_year                   2023          2019            2023  \n",
       "released_month                     6             8               5  \n",
       "released_day                      30            23              18  \n",
       "in_spotify_playlists            1397          7858            3133  \n",
       "in_spotify_charts              113.0         100.0            50.0  \n",
       "streams                  140003974.0   800840817.0     303236322.0  \n",
       "in_apple_playlists                94           116              84  \n",
       "in_apple_charts                207.0         207.0           133.0  \n",
       "in_deezer_playlists               91           125              87  \n",
       "in_deezer_charts                14.0          12.0            15.0  \n",
       "in_shazam_charts               949.0         548.0           425.0  \n",
       "bpm                              138           170             144  \n",
       "key                                F             A               A  \n",
       "mode                           Major         Major           Minor  \n",
       "danceability_%                    51            55              65  \n",
       "valence_%                         32            58              23  \n",
       "energy_%                          53            72              80  \n",
       "acousticness_%                    17            11              14  \n",
       "instrumentalness_%                 0             0              63  \n",
       "liveness_%                        31            11              11  \n",
       "speechiness_%                      6            15               6  "
      ]
     },
     "execution_count": 2,
     "metadata": {},
     "output_type": "execute_result"
    }
   ],
   "source": [
    "df = pd.read_csv('./data/processed_spotify-2023.csv', encoding='ISO-8859-1')\n",
    "df.head().T"
   ]
  },
  {
   "cell_type": "markdown",
   "metadata": {},
   "source": [
    "### 2.1 Pre-processing data"
   ]
  },
  {
   "cell_type": "markdown",
   "metadata": {},
   "source": [
    "### 2.2 Data analysis"
   ]
  },
  {
   "cell_type": "markdown",
   "metadata": {},
   "source": [
    "- Artist with respective number of songs that he/she/groups have released"
   ]
  },
  {
   "cell_type": "code",
   "execution_count": null,
   "metadata": {},
   "outputs": [],
   "source": []
  },
  {
   "cell_type": "markdown",
   "metadata": {},
   "source": [
    "### 2.3 Answer the question"
   ]
  }
 ],
 "metadata": {
  "kernelspec": {
   "display_name": "min_ds-env_2",
   "language": "python",
   "name": "python3"
  },
  "language_info": {
   "codemirror_mode": {
    "name": "ipython",
    "version": 3
   },
   "file_extension": ".py",
   "mimetype": "text/x-python",
   "name": "python",
   "nbconvert_exporter": "python",
   "pygments_lexer": "ipython3",
   "version": "3.10.8"
  }
 },
 "nbformat": 4,
 "nbformat_minor": 2
}
