{
 "cells": [
  {
   "cell_type": "markdown",
   "metadata": {},
   "source": [
    "# <p style=\"text-align: center;\"> Final Project - Programming for Data Science</p>\n",
    "# <p style=\"text-align: center;\"> <b> Data Collecting </b></p>\n",
    "---"
   ]
  },
  {
   "cell_type": "markdown",
   "metadata": {},
   "source": [
    "## Member Information\n",
    "| Name              | ID       |\n",
    "|-------------------|----------|\n",
    "| Nguyen Khanh Nhan | 21127657         |\n",
    "| Tran Dai Nien     | 21127664 |"
   ]
  },
  {
   "cell_type": "markdown",
   "metadata": {},
   "source": [
    "## Table of Contents\n",
    "1. [Introduction about the data](#introduction-about-the-data)\n",
    "2. [Data Source](#data-source)\n",
    "3. [License and Copy Right](#license-and-copy-right)\n",
    "4. [How author collect the data](#how-author-collect-the-data)\n",
    "\n",
    "---"
   ]
  },
  {
   "cell_type": "markdown",
   "metadata": {},
   "source": [
    "## 1. Introduction about the data"
   ]
  },
  {
   "cell_type": "markdown",
   "metadata": {},
   "source": [
    " - [Most Streamed Spotify Songs 2023](https://www.kaggle.com/datasets/nelgiriyewithana/top-spotify-songs-2023) contains a comprehensive list of the **most famous songs of 2023** as listed on `Spotify`. The dataset offers a wealth of features beyond what is typically available in similar datasets. It provides insights into each `song's attributes`, `popularity`, and `presence on various music platforms`. The dataset includes information such as `track name`, `artist(s) name`, `release date`, `Spotify playlists and charts`, `streaming statistics`, `Apple Music presence`, `Deezer presence`, `Shazam charts`, and various audio features."
   ]
  },
  {
   "cell_type": "markdown",
   "metadata": {},
   "source": [
    "## 2. Data Source"
   ]
  },
  {
   "cell_type": "markdown",
   "metadata": {},
   "source": [
    "- Our group get the dataset from this **link:** https://www.kaggle.com/datasets/nelgiriyewithana/top-spotify-songs-2023/data. All rights and licenses have been specified in **description** section."
   ]
  },
  {
   "cell_type": "markdown",
   "metadata": {},
   "source": [
    "## 3. License and Copy Right"
   ]
  },
  {
   "cell_type": "markdown",
   "metadata": {},
   "source": [
    "- Owner: [Nidula Elgiriyewithana](https://www.kaggle.com/nelgiriyewithana)\n",
    "- License: The owner stated `\"Other (specified in description)\"` but did not mention it in the description section. However, this dataset is a `general public data set` on Kaggle, and below the description, the author expressed gratitude for support through upvotes:\n",
    "\n",
    "<img title=\"a title\" alt=\"Alt text\" src=\"./img/owner_expressed.jpg\">\n",
    "\n",
    "- Therefore, this dataset is provided to the community for `research and learning purposes`, and within the scope of our course, we can use this dataset for our final project."
   ]
  },
  {
   "cell_type": "markdown",
   "metadata": {},
   "source": [
    "## 4. How author collect the data"
   ]
  },
  {
   "cell_type": "markdown",
   "metadata": {},
   "source": [
    "- Data has been grabbed using Spotify API by Nidula Elgiriyewithana."
   ]
  }
 ],
 "metadata": {
  "language_info": {
   "name": "python"
  }
 },
 "nbformat": 4,
 "nbformat_minor": 2
}
