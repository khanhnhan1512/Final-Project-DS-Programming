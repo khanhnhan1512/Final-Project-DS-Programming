{
 "cells": [
  {
   "cell_type": "markdown",
   "metadata": {},
   "source": [
    "\n",
    "<div style=\"text-align: center; color: white; background-color: #559cff; font-weight: bold; padding: 20px\" >\n",
    " <p style=\"font-size: 40px\"> Final Project - Programming for Data Science 📚</p>\n",
    " <p style=\"font-size: 30px\"><u>Phase 1:</u> Data Collecting ⛏</p>\n",
    "\n",
    "</div>\n",
    "\n",
    "\n",
    "---"
   ]
  },
  {
   "cell_type": "markdown",
   "metadata": {},
   "source": [
    "## Member Information\n",
    "| Name              | ID       |\n",
    "|-------------------|----------|\n",
    "| Nguyen Khanh Nhan | 21127657         |\n",
    "| Tran Dai Nien     | 21127664 |"
   ]
  },
  {
   "cell_type": "markdown",
   "metadata": {},
   "source": [
    "## Table of Contents\n",
    "- [1. Introduction about the data](#introduction-about-the-data)\n",
    "- [2. Data Source](#data-source)\n",
    "- [3. License and Copy Right](#license-and-copy-right)\n",
    "- [4. How author collect the data](#how-author-collect-the-data)\n",
    "\n",
    "---"
   ]
  },
  {
   "cell_type": "markdown",
   "metadata": {},
   "source": [
    "## 1. Introduction about the data"
   ]
  },
  {
   "cell_type": "markdown",
   "metadata": {},
   "source": [
    " - [Most Streamed Spotify Songs 2023](https://www.kaggle.com/datasets/nelgiriyewithana/top-spotify-songs-2023) contains a list of the most streamed songs from the `Spotify` music streaming application in the year `2023`. The dataset includes information such as the song name, artist name, release date, music ranking, BPM, key, and online streaming rankings from other platforms like `Apple Music`, `Deezer`, etc. The figures provided in this dataset are relevant to values starting from `November 4, 2023`, when the dataset was downloaded from `Kaggle`."
   ]
  },
  {
   "cell_type": "markdown",
   "metadata": {},
   "source": [
    "## 2. Data Source"
   ]
  },
  {
   "cell_type": "markdown",
   "metadata": {},
   "source": [
    "- Owner: [Nidula Elgiriyewithana](https://www.kaggle.com/nelgiriyewithana)\n",
    "- Our group get the dataset from [**general public dataset on Kaggle**](https://www.kaggle.com/datasets/nelgiriyewithana/top-spotify-songs-2023/data). \n",
    "- The dataset is stored in `CSV` format."
   ]
  },
  {
   "cell_type": "markdown",
   "metadata": {},
   "source": [
    "## 3. License and Copy Right"
   ]
  },
  {
   "cell_type": "markdown",
   "metadata": {},
   "source": [
    "\n",
    "- License: The owner stated `\"Other (specified in description)\"` but did not mention it in the description section. However, this dataset is a `general public data set` on Kaggle, and below the description, the author expressed gratitude for support through upvotes:\n",
    "\n",
    "<img title=\"a title\" alt=\"Alt text\" src=\"./img/owner_expressed.jpg\">\n",
    "\n",
    "- Therefore, this dataset is provided to the community for `research and learning purposes`, and within the scope of our course, we can use this dataset for our final project."
   ]
  },
  {
   "cell_type": "markdown",
   "metadata": {},
   "source": [
    "## 4. How author collect the data"
   ]
  },
  {
   "cell_type": "markdown",
   "metadata": {},
   "source": [
    "- Data has been grabbed using Spotify API by `Nidula Elgiriyewithana`."
   ]
  },
  {
   "cell_type": "markdown",
   "metadata": {},
   "source": [
    "---\n",
    "<p style=\"text-align:center; font-size:30px;\">END</p>"
   ]
  }
 ],
 "metadata": {
  "language_info": {
   "name": "python"
  }
 },
 "nbformat": 4,
 "nbformat_minor": 2
}
