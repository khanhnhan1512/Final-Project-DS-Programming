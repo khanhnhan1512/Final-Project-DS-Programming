{
 "cells": [
  {
   "cell_type": "markdown",
   "metadata": {},
   "source": [
    "# <p style=\"text-align: center;\"> Final Project - Programming for Data Science</p>\n",
    "### <p style=\"text-align: center;\"> <b> Question 1: ... </b></p>\n",
    "\n",
    "\n",
    "---"
   ]
  },
  {
   "cell_type": "markdown",
   "metadata": {},
   "source": [
    "## Member Information\n",
    "| Name              | ID       |\n",
    "|-------------------|----------|\n",
    "| Nguyen Khanh Nhan | 21127657         |\n",
    "| Tran Dai Nien     | 21127664 |"
   ]
  },
  {
   "cell_type": "markdown",
   "metadata": {},
   "source": [
    "## Table of contents\n",
    "1. [Question](#1-question) <br> \n",
    "    1.1 [The purpose of the question](#11-the-purpose-of-the-question)<br>\n",
    "    1.2 [How to solve the question](#12-how-to-solve-the-question)\n",
    "2. [Solution](#2-solution) <br>\n",
    "    2.1 [Pre-processing data](#21-pre-processing-data)<br>\n",
    "    2.2 [Data analysis](#22-data-analysis)<br>\n",
    "    2.3 [Answer the question](#23-answer-the-question)<br>\n",
    "---"
   ]
  },
  {
   "cell_type": "markdown",
   "metadata": {},
   "source": [
    "## 1. Question"
   ]
  },
  {
   "cell_type": "markdown",
   "metadata": {},
   "source": [
    "Rewrite the question here."
   ]
  },
  {
   "cell_type": "markdown",
   "metadata": {},
   "source": [
    "### 1.1 The purpose of the question"
   ]
  },
  {
   "cell_type": "markdown",
   "metadata": {},
   "source": [
    "### 1.2 How to solve the question"
   ]
  },
  {
   "cell_type": "markdown",
   "metadata": {},
   "source": [
    "## 2. Solution"
   ]
  },
  {
   "cell_type": "markdown",
   "metadata": {},
   "source": [
    "### 2.1 Pre-processing data"
   ]
  },
  {
   "cell_type": "markdown",
   "metadata": {},
   "source": [
    "### 2.2 Data analysis"
   ]
  },
  {
   "cell_type": "markdown",
   "metadata": {},
   "source": [
    "### 2.3 Answer the question"
   ]
  }
 ],
 "metadata": {
  "language_info": {
   "name": "python"
  }
 },
 "nbformat": 4,
 "nbformat_minor": 2
}
