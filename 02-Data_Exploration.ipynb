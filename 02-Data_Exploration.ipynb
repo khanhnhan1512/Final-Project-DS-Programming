{
 "cells": [
  {
   "cell_type": "markdown",
   "metadata": {},
   "source": [
    "# <p style=\"text-align: center;\"> Final Project - Programming for Data Science</p>\n",
    "# <p style=\"text-align: center;\"> <b> Data Exploration </b></p>\n",
    "---"
   ]
  },
  {
   "cell_type": "markdown",
   "metadata": {},
   "source": [
    "## Member Information\n",
    "| Name              | ID       |\n",
    "|-------------------|----------|\n",
    "| Nguyen Khanh Nhan | 21127657         |\n",
    "| Tran Dai Nien     | 21127664 |"
   ]
  },
  {
   "cell_type": "markdown",
   "metadata": {},
   "source": [
    "## Table of Contents\n",
    "\n",
    "\n",
    "\n",
    "---"
   ]
  },
  {
   "cell_type": "markdown",
   "metadata": {},
   "source": [
    "### Import"
   ]
  },
  {
   "cell_type": "code",
   "execution_count": 80,
   "metadata": {},
   "outputs": [
    {
     "data": {
      "text/html": [
       "<div>\n",
       "<style scoped>\n",
       "    .dataframe tbody tr th:only-of-type {\n",
       "        vertical-align: middle;\n",
       "    }\n",
       "\n",
       "    .dataframe tbody tr th {\n",
       "        vertical-align: top;\n",
       "    }\n",
       "\n",
       "    .dataframe thead th {\n",
       "        text-align: right;\n",
       "    }\n",
       "</style>\n",
       "<table border=\"1\" class=\"dataframe\">\n",
       "  <thead>\n",
       "    <tr style=\"text-align: right;\">\n",
       "      <th></th>\n",
       "      <th>track_name</th>\n",
       "      <th>artist(s)_name</th>\n",
       "      <th>artist_count</th>\n",
       "      <th>released_year</th>\n",
       "      <th>released_month</th>\n",
       "      <th>released_day</th>\n",
       "      <th>in_spotify_playlists</th>\n",
       "      <th>in_spotify_charts</th>\n",
       "      <th>streams</th>\n",
       "      <th>in_apple_playlists</th>\n",
       "      <th>...</th>\n",
       "      <th>bpm</th>\n",
       "      <th>key</th>\n",
       "      <th>mode</th>\n",
       "      <th>danceability_%</th>\n",
       "      <th>valence_%</th>\n",
       "      <th>energy_%</th>\n",
       "      <th>acousticness_%</th>\n",
       "      <th>instrumentalness_%</th>\n",
       "      <th>liveness_%</th>\n",
       "      <th>speechiness_%</th>\n",
       "    </tr>\n",
       "  </thead>\n",
       "  <tbody>\n",
       "    <tr>\n",
       "      <th>76</th>\n",
       "      <td>Here With Me</td>\n",
       "      <td>d4vd</td>\n",
       "      <td>1</td>\n",
       "      <td>2022</td>\n",
       "      <td>7</td>\n",
       "      <td>17</td>\n",
       "      <td>3246</td>\n",
       "      <td>23</td>\n",
       "      <td>635412045</td>\n",
       "      <td>94</td>\n",
       "      <td>...</td>\n",
       "      <td>132</td>\n",
       "      <td>E</td>\n",
       "      <td>Major</td>\n",
       "      <td>58</td>\n",
       "      <td>27</td>\n",
       "      <td>48</td>\n",
       "      <td>50</td>\n",
       "      <td>0</td>\n",
       "      <td>12</td>\n",
       "      <td>3</td>\n",
       "    </tr>\n",
       "    <tr>\n",
       "      <th>870</th>\n",
       "      <td>MORE</td>\n",
       "      <td>j-hope</td>\n",
       "      <td>1</td>\n",
       "      <td>2022</td>\n",
       "      <td>7</td>\n",
       "      <td>1</td>\n",
       "      <td>565</td>\n",
       "      <td>0</td>\n",
       "      <td>155795783</td>\n",
       "      <td>6</td>\n",
       "      <td>...</td>\n",
       "      <td>97</td>\n",
       "      <td>D</td>\n",
       "      <td>Major</td>\n",
       "      <td>78</td>\n",
       "      <td>31</td>\n",
       "      <td>72</td>\n",
       "      <td>1</td>\n",
       "      <td>0</td>\n",
       "      <td>11</td>\n",
       "      <td>4</td>\n",
       "    </tr>\n",
       "    <tr>\n",
       "      <th>929</th>\n",
       "      <td>Bamba (feat. Aitch &amp; BIA)</td>\n",
       "      <td>Luciano, Aitch, Bï¿½</td>\n",
       "      <td>3</td>\n",
       "      <td>2022</td>\n",
       "      <td>9</td>\n",
       "      <td>22</td>\n",
       "      <td>869</td>\n",
       "      <td>7</td>\n",
       "      <td>146223492</td>\n",
       "      <td>14</td>\n",
       "      <td>...</td>\n",
       "      <td>138</td>\n",
       "      <td>A#</td>\n",
       "      <td>Major</td>\n",
       "      <td>80</td>\n",
       "      <td>82</td>\n",
       "      <td>81</td>\n",
       "      <td>14</td>\n",
       "      <td>0</td>\n",
       "      <td>13</td>\n",
       "      <td>36</td>\n",
       "    </tr>\n",
       "    <tr>\n",
       "      <th>851</th>\n",
       "      <td>Daydreaming</td>\n",
       "      <td>Harry Styles</td>\n",
       "      <td>1</td>\n",
       "      <td>2022</td>\n",
       "      <td>5</td>\n",
       "      <td>20</td>\n",
       "      <td>1900</td>\n",
       "      <td>1</td>\n",
       "      <td>187703102</td>\n",
       "      <td>15</td>\n",
       "      <td>...</td>\n",
       "      <td>114</td>\n",
       "      <td>E</td>\n",
       "      <td>Minor</td>\n",
       "      <td>71</td>\n",
       "      <td>90</td>\n",
       "      <td>81</td>\n",
       "      <td>31</td>\n",
       "      <td>2</td>\n",
       "      <td>13</td>\n",
       "      <td>3</td>\n",
       "    </tr>\n",
       "    <tr>\n",
       "      <th>0</th>\n",
       "      <td>Seven (feat. Latto) (Explicit Ver.)</td>\n",
       "      <td>Latto, Jung Kook</td>\n",
       "      <td>2</td>\n",
       "      <td>2023</td>\n",
       "      <td>7</td>\n",
       "      <td>14</td>\n",
       "      <td>553</td>\n",
       "      <td>147</td>\n",
       "      <td>141381703</td>\n",
       "      <td>43</td>\n",
       "      <td>...</td>\n",
       "      <td>125</td>\n",
       "      <td>B</td>\n",
       "      <td>Major</td>\n",
       "      <td>80</td>\n",
       "      <td>89</td>\n",
       "      <td>83</td>\n",
       "      <td>31</td>\n",
       "      <td>0</td>\n",
       "      <td>8</td>\n",
       "      <td>4</td>\n",
       "    </tr>\n",
       "  </tbody>\n",
       "</table>\n",
       "<p>5 rows × 24 columns</p>\n",
       "</div>"
      ],
      "text/plain": [
       "                              track_name        artist(s)_name  artist_count  \\\n",
       "76                          Here With Me                  d4vd             1   \n",
       "870                                 MORE                j-hope             1   \n",
       "929            Bamba (feat. Aitch & BIA)  Luciano, Aitch, Bï¿½             3   \n",
       "851                          Daydreaming          Harry Styles             1   \n",
       "0    Seven (feat. Latto) (Explicit Ver.)      Latto, Jung Kook             2   \n",
       "\n",
       "     released_year  released_month  released_day  in_spotify_playlists  \\\n",
       "76            2022               7            17                  3246   \n",
       "870           2022               7             1                   565   \n",
       "929           2022               9            22                   869   \n",
       "851           2022               5            20                  1900   \n",
       "0             2023               7            14                   553   \n",
       "\n",
       "     in_spotify_charts    streams  in_apple_playlists  ...  bpm key   mode  \\\n",
       "76                  23  635412045                  94  ...  132   E  Major   \n",
       "870                  0  155795783                   6  ...   97   D  Major   \n",
       "929                  7  146223492                  14  ...  138  A#  Major   \n",
       "851                  1  187703102                  15  ...  114   E  Minor   \n",
       "0                  147  141381703                  43  ...  125   B  Major   \n",
       "\n",
       "    danceability_%  valence_% energy_% acousticness_%  instrumentalness_%  \\\n",
       "76              58         27       48             50                   0   \n",
       "870             78         31       72              1                   0   \n",
       "929             80         82       81             14                   0   \n",
       "851             71         90       81             31                   2   \n",
       "0               80         89       83             31                   0   \n",
       "\n",
       "     liveness_%  speechiness_%  \n",
       "76           12              3  \n",
       "870          11              4  \n",
       "929          13             36  \n",
       "851          13              3  \n",
       "0             8              4  \n",
       "\n",
       "[5 rows x 24 columns]"
      ]
     },
     "execution_count": 80,
     "metadata": {},
     "output_type": "execute_result"
    }
   ],
   "source": [
    "import numpy as np\n",
    "import pandas as pd\n",
    "import matplotlib.pyplot as plt\n",
    "\n",
    "df = pd.read_csv('./data/spotify-2023.csv', encoding='ISO-8859-1')\n",
    "\n",
    "# get 5 random samples\n",
    "df.sample(5)"
   ]
  },
  {
   "cell_type": "markdown",
   "metadata": {},
   "source": [
    "### How many rows and columns?"
   ]
  },
  {
   "cell_type": "code",
   "execution_count": 81,
   "metadata": {},
   "outputs": [
    {
     "data": {
      "text/plain": [
       "(953, 24)"
      ]
     },
     "execution_count": 81,
     "metadata": {},
     "output_type": "execute_result"
    }
   ],
   "source": [
    "df.shape"
   ]
  },
  {
   "cell_type": "markdown",
   "metadata": {},
   "source": [
    "- Number of rows: 953\n",
    "\n",
    "- Number of columns: 24"
   ]
  },
  {
   "cell_type": "markdown",
   "metadata": {},
   "source": [
    "### What is the meaning of each row?"
   ]
  },
  {
   "cell_type": "markdown",
   "metadata": {},
   "source": [
    "- A row represents the information of a song(name, artist_name, released year,...) and some of its properties in Spotify"
   ]
  },
  {
   "cell_type": "markdown",
   "metadata": {},
   "source": [
    "### Are there duplicated rows?"
   ]
  },
  {
   "cell_type": "code",
   "execution_count": 82,
   "metadata": {},
   "outputs": [
    {
     "data": {
      "text/plain": [
       "0"
      ]
     },
     "execution_count": 82,
     "metadata": {},
     "output_type": "execute_result"
    }
   ],
   "source": [
    "df.duplicated().sum()"
   ]
  },
  {
   "cell_type": "markdown",
   "metadata": {},
   "source": [
    "- There is no duplicated rows"
   ]
  },
  {
   "cell_type": "markdown",
   "metadata": {},
   "source": [
    "### What is the meaning of each colum?"
   ]
  },
  {
   "cell_type": "markdown",
   "metadata": {},
   "source": [
    "\n",
    "- `track_name`: Name of the song\n",
    "\n",
    "- `artist(s)_name`: Name of the artist(s) of the song\n",
    "\n",
    "- `artist_count`: Number of artists contributing to the song\n",
    "\n",
    "- `released_year`: Year when the song was released\n",
    "\n",
    "- `released_month`: Month when the song was released\n",
    "\n",
    "- `released_day`: Day of the month when the song was released\n",
    "\n",
    "- `in_spotify_playlists`: Number of Spotify playlists the song is included in\n",
    "\n",
    "- `in_spotify_charts`: Presence and rank of the song on Spotify charts\n",
    "\n",
    "- `streams`: Total number of streams on Spotify\n",
    "\n",
    "- `in_apple_playlists`: Number of Apple Music playlists the song is included in\n",
    "\n",
    "- `in_apple_charts`: Presence and rank of the song on Apple Music charts\n",
    "\n",
    "- `in_deezer_playlists`: Number of Deezer playlists the song is included in\n",
    "\n",
    "- `in_deezer_charts`: Presence and rank of the song on Deezer charts\n",
    "\n",
    "- `in_shazam_charts`: Presence and rank of the song on Shazam charts\n",
    "\n",
    "- `bpm`: Beats per minute, a measure of song tempo\n",
    "\n",
    "- `key`: Key of the song\n",
    "\n",
    "- `mode`: Mode of the song (major or minor)\n",
    "\n",
    "- `danceability_%`: Percentage indicating how suitable the song is for dancing\n",
    "\n",
    "- `valence_%`: Positivity of the song's musical content\n",
    "\n",
    "- `energy_%`: Perceived energy level of the song\n",
    "\n",
    "- `acousticness_%`: Amount of acoustic sound in the song\n",
    "\n",
    "- `instrumentalness_%`: Amount of instrumental content in the song\n",
    "\n",
    "- `liveness_%`: Presence of live performance elements\n",
    "\n",
    "- `speechiness_%`: Amount of spoken words in the song"
   ]
  },
  {
   "cell_type": "markdown",
   "metadata": {},
   "source": [
    "### What is the current data type of each column? Are there any columns having inappropriate data types?"
   ]
  },
  {
   "cell_type": "code",
   "execution_count": 83,
   "metadata": {},
   "outputs": [
    {
     "data": {
      "text/plain": [
       "track_name              object\n",
       "artist(s)_name          object\n",
       "artist_count             int64\n",
       "released_year            int64\n",
       "released_month           int64\n",
       "released_day             int64\n",
       "in_spotify_playlists     int64\n",
       "in_spotify_charts        int64\n",
       "streams                 object\n",
       "in_apple_playlists       int64\n",
       "in_apple_charts          int64\n",
       "in_deezer_playlists     object\n",
       "in_deezer_charts         int64\n",
       "in_shazam_charts        object\n",
       "bpm                      int64\n",
       "key                     object\n",
       "mode                    object\n",
       "danceability_%           int64\n",
       "valence_%                int64\n",
       "energy_%                 int64\n",
       "acousticness_%           int64\n",
       "instrumentalness_%       int64\n",
       "liveness_%               int64\n",
       "speechiness_%            int64\n",
       "dtype: object"
      ]
     },
     "execution_count": 83,
     "metadata": {},
     "output_type": "execute_result"
    }
   ],
   "source": [
    "df.dtypes"
   ]
  },
  {
   "cell_type": "markdown",
   "metadata": {},
   "source": [
    "There are some inapropriate columns' data types:\n",
    "\n",
    "- `track_name, artist(s)_name, key, mode` are String\n",
    "\n",
    "- `streams, in_deezer_playlists, in_shazam_charts` are int64"
   ]
  },
  {
   "cell_type": "markdown",
   "metadata": {},
   "source": [
    "Convert to correct data types"
   ]
  },
  {
   "cell_type": "code",
   "execution_count": 84,
   "metadata": {},
   "outputs": [],
   "source": [
    "# object_cols = df.select_dtypes(include=['object']).columns\n",
    "# df[object_cols].columns\n",
    "\n",
    "ob_to_str_cols = ['track_name', 'artist(s)_name', 'key', 'mode']\n",
    "ob_to_int_cols = ['streams', 'in_deezer_playlists','in_shazam_charts']\n",
    "\n",
    "# df[ob_to_str_cols] = df[ob_to_str_cols].astype(str)\n",
    "# pd.to_numeric(df, errors='coerce')\n",
    "for col in ob_to_int_cols:\n",
    "  df[col] = pd.to_numeric(df[col], errors='coerce')\n",
    "\n",
    "df[ob_to_str_cols] = df[ob_to_str_cols].astype(str)"
   ]
  },
  {
   "cell_type": "code",
   "execution_count": 85,
   "metadata": {},
   "outputs": [
    {
     "data": {
      "text/plain": [
       "track_name               object\n",
       "artist(s)_name           object\n",
       "artist_count              int64\n",
       "released_year             int64\n",
       "released_month            int64\n",
       "released_day              int64\n",
       "in_spotify_playlists      int64\n",
       "in_spotify_charts         int64\n",
       "streams                 float64\n",
       "in_apple_playlists        int64\n",
       "in_apple_charts           int64\n",
       "in_deezer_playlists     float64\n",
       "in_deezer_charts          int64\n",
       "in_shazam_charts        float64\n",
       "bpm                       int64\n",
       "key                      object\n",
       "mode                     object\n",
       "danceability_%            int64\n",
       "valence_%                 int64\n",
       "energy_%                  int64\n",
       "acousticness_%            int64\n",
       "instrumentalness_%        int64\n",
       "liveness_%                int64\n",
       "speechiness_%             int64\n",
       "dtype: object"
      ]
     },
     "execution_count": 85,
     "metadata": {},
     "output_type": "execute_result"
    }
   ],
   "source": [
    "df.dtypes"
   ]
  },
  {
   "cell_type": "markdown",
   "metadata": {},
   "source": [
    "### With each numerical column, how are values distributed?"
   ]
  },
  {
   "cell_type": "markdown",
   "metadata": {},
   "source": [
    "All numerical columns:"
   ]
  },
  {
   "cell_type": "code",
   "execution_count": 86,
   "metadata": {},
   "outputs": [],
   "source": [
    "numerical_cols = df[df.columns[(df.dtypes == 'int64') | (df.dtypes == 'float64')]]"
   ]
  },
  {
   "cell_type": "markdown",
   "metadata": {},
   "source": [
    "####  What is the percentage of missing values?"
   ]
  },
  {
   "cell_type": "markdown",
   "metadata": {},
   "source": [
    "- Number of missing values of each columns"
   ]
  },
  {
   "cell_type": "code",
   "execution_count": 87,
   "metadata": {},
   "outputs": [
    {
     "name": "stdout",
     "output_type": "stream",
     "text": [
      "<class 'pandas.core.frame.DataFrame'>\n",
      "RangeIndex: 953 entries, 0 to 952\n",
      "Data columns (total 20 columns):\n",
      " #   Column                Non-Null Count  Dtype  \n",
      "---  ------                --------------  -----  \n",
      " 0   artist_count          953 non-null    int64  \n",
      " 1   released_year         953 non-null    int64  \n",
      " 2   released_month        953 non-null    int64  \n",
      " 3   released_day          953 non-null    int64  \n",
      " 4   in_spotify_playlists  953 non-null    int64  \n",
      " 5   in_spotify_charts     953 non-null    int64  \n",
      " 6   streams               952 non-null    float64\n",
      " 7   in_apple_playlists    953 non-null    int64  \n",
      " 8   in_apple_charts       953 non-null    int64  \n",
      " 9   in_deezer_playlists   874 non-null    float64\n",
      " 10  in_deezer_charts      953 non-null    int64  \n",
      " 11  in_shazam_charts      896 non-null    float64\n",
      " 12  bpm                   953 non-null    int64  \n",
      " 13  danceability_%        953 non-null    int64  \n",
      " 14  valence_%             953 non-null    int64  \n",
      " 15  energy_%              953 non-null    int64  \n",
      " 16  acousticness_%        953 non-null    int64  \n",
      " 17  instrumentalness_%    953 non-null    int64  \n",
      " 18  liveness_%            953 non-null    int64  \n",
      " 19  speechiness_%         953 non-null    int64  \n",
      "dtypes: float64(3), int64(17)\n",
      "memory usage: 149.0 KB\n"
     ]
    }
   ],
   "source": [
    "numerical_cols.info()"
   ]
  },
  {
   "cell_type": "markdown",
   "metadata": {},
   "source": [
    "- The percentage of missing values for each columns"
   ]
  },
  {
   "cell_type": "code",
   "execution_count": 88,
   "metadata": {},
   "outputs": [
    {
     "data": {
      "text/plain": [
       "track_name              0.000000\n",
       "artist(s)_name          0.000000\n",
       "artist_count            0.000000\n",
       "released_year           0.000000\n",
       "released_month          0.000000\n",
       "released_day            0.000000\n",
       "in_spotify_playlists    0.000000\n",
       "in_spotify_charts       0.000000\n",
       "streams                 0.104932\n",
       "in_apple_playlists      0.000000\n",
       "in_apple_charts         0.000000\n",
       "in_deezer_playlists     8.289612\n",
       "in_deezer_charts        0.000000\n",
       "in_shazam_charts        5.981112\n",
       "bpm                     0.000000\n",
       "key                     0.000000\n",
       "mode                    0.000000\n",
       "danceability_%          0.000000\n",
       "valence_%               0.000000\n",
       "energy_%                0.000000\n",
       "acousticness_%          0.000000\n",
       "instrumentalness_%      0.000000\n",
       "liveness_%              0.000000\n",
       "speechiness_%           0.000000\n",
       "dtype: float64"
      ]
     },
     "execution_count": 88,
     "metadata": {},
     "output_type": "execute_result"
    }
   ],
   "source": [
    "df.isnull().mean() * 100"
   ]
  },
  {
   "cell_type": "markdown",
   "metadata": {},
   "source": [
    "- Distribution of numerical attributes"
   ]
  },
  {
   "cell_type": "code",
   "execution_count": 89,
   "metadata": {},
   "outputs": [
    {
     "data": {
      "image/png": "[encoded data removed]",
      "text/plain": [
       "<Figure size 1500x1000 with 20 Axes>"
      ]
     },
     "metadata": {},
     "output_type": "display_data"
    }
   ],
   "source": [
    "numerical_cols.hist(figsize=(15, 10))\n",
    "plt.tight_layout()\n",
    "plt.show()"
   ]
  },
  {
   "cell_type": "code",
   "execution_count": 90,
   "metadata": {},
   "outputs": [
    {
     "data": {
      "text/html": [
       "<div>\n",
       "<style scoped>\n",
       "    .dataframe tbody tr th:only-of-type {\n",
       "        vertical-align: middle;\n",
       "    }\n",
       "\n",
       "    .dataframe tbody tr th {\n",
       "        vertical-align: top;\n",
       "    }\n",
       "\n",
       "    .dataframe thead th {\n",
       "        text-align: right;\n",
       "    }\n",
       "</style>\n",
       "<table border=\"1\" class=\"dataframe\">\n",
       "  <thead>\n",
       "    <tr style=\"text-align: right;\">\n",
       "      <th></th>\n",
       "      <th>artist_count</th>\n",
       "      <th>released_year</th>\n",
       "      <th>released_month</th>\n",
       "      <th>released_day</th>\n",
       "      <th>in_spotify_playlists</th>\n",
       "      <th>in_spotify_charts</th>\n",
       "      <th>streams</th>\n",
       "      <th>in_apple_playlists</th>\n",
       "      <th>in_apple_charts</th>\n",
       "      <th>in_deezer_playlists</th>\n",
       "      <th>in_deezer_charts</th>\n",
       "      <th>in_shazam_charts</th>\n",
       "      <th>bpm</th>\n",
       "      <th>danceability_%</th>\n",
       "      <th>valence_%</th>\n",
       "      <th>energy_%</th>\n",
       "      <th>acousticness_%</th>\n",
       "      <th>instrumentalness_%</th>\n",
       "      <th>liveness_%</th>\n",
       "      <th>speechiness_%</th>\n",
       "    </tr>\n",
       "  </thead>\n",
       "  <tbody>\n",
       "    <tr>\n",
       "      <th>count</th>\n",
       "      <td>953.000000</td>\n",
       "      <td>953.000000</td>\n",
       "      <td>953.000000</td>\n",
       "      <td>953.000000</td>\n",
       "      <td>953.000000</td>\n",
       "      <td>953.000000</td>\n",
       "      <td>9.520000e+02</td>\n",
       "      <td>953.000000</td>\n",
       "      <td>953.000000</td>\n",
       "      <td>874.000000</td>\n",
       "      <td>953.000000</td>\n",
       "      <td>896.000000</td>\n",
       "      <td>953.000000</td>\n",
       "      <td>953.00000</td>\n",
       "      <td>953.000000</td>\n",
       "      <td>953.000000</td>\n",
       "      <td>953.000000</td>\n",
       "      <td>953.000000</td>\n",
       "      <td>953.000000</td>\n",
       "      <td>953.000000</td>\n",
       "    </tr>\n",
       "    <tr>\n",
       "      <th>mean</th>\n",
       "      <td>1.556139</td>\n",
       "      <td>2018.238195</td>\n",
       "      <td>6.033578</td>\n",
       "      <td>13.930745</td>\n",
       "      <td>5200.124869</td>\n",
       "      <td>12.009444</td>\n",
       "      <td>5.141374e+08</td>\n",
       "      <td>67.812172</td>\n",
       "      <td>51.908709</td>\n",
       "      <td>109.740275</td>\n",
       "      <td>2.666317</td>\n",
       "      <td>51.176339</td>\n",
       "      <td>122.540399</td>\n",
       "      <td>66.96957</td>\n",
       "      <td>51.431270</td>\n",
       "      <td>64.279119</td>\n",
       "      <td>27.057712</td>\n",
       "      <td>1.581322</td>\n",
       "      <td>18.213012</td>\n",
       "      <td>10.131165</td>\n",
       "    </tr>\n",
       "    <tr>\n",
       "      <th>std</th>\n",
       "      <td>0.893044</td>\n",
       "      <td>11.116218</td>\n",
       "      <td>3.566435</td>\n",
       "      <td>9.201949</td>\n",
       "      <td>7897.608990</td>\n",
       "      <td>19.575992</td>\n",
       "      <td>5.668569e+08</td>\n",
       "      <td>86.441493</td>\n",
       "      <td>50.630241</td>\n",
       "      <td>178.811406</td>\n",
       "      <td>6.035599</td>\n",
       "      <td>126.487856</td>\n",
       "      <td>28.057802</td>\n",
       "      <td>14.63061</td>\n",
       "      <td>23.480632</td>\n",
       "      <td>16.550526</td>\n",
       "      <td>25.996077</td>\n",
       "      <td>8.409800</td>\n",
       "      <td>13.711223</td>\n",
       "      <td>9.912888</td>\n",
       "    </tr>\n",
       "    <tr>\n",
       "      <th>min</th>\n",
       "      <td>1.000000</td>\n",
       "      <td>1930.000000</td>\n",
       "      <td>1.000000</td>\n",
       "      <td>1.000000</td>\n",
       "      <td>31.000000</td>\n",
       "      <td>0.000000</td>\n",
       "      <td>2.762000e+03</td>\n",
       "      <td>0.000000</td>\n",
       "      <td>0.000000</td>\n",
       "      <td>0.000000</td>\n",
       "      <td>0.000000</td>\n",
       "      <td>0.000000</td>\n",
       "      <td>65.000000</td>\n",
       "      <td>23.00000</td>\n",
       "      <td>4.000000</td>\n",
       "      <td>9.000000</td>\n",
       "      <td>0.000000</td>\n",
       "      <td>0.000000</td>\n",
       "      <td>3.000000</td>\n",
       "      <td>2.000000</td>\n",
       "    </tr>\n",
       "    <tr>\n",
       "      <th>25%</th>\n",
       "      <td>1.000000</td>\n",
       "      <td>2020.000000</td>\n",
       "      <td>3.000000</td>\n",
       "      <td>6.000000</td>\n",
       "      <td>875.000000</td>\n",
       "      <td>0.000000</td>\n",
       "      <td>1.416362e+08</td>\n",
       "      <td>13.000000</td>\n",
       "      <td>7.000000</td>\n",
       "      <td>12.000000</td>\n",
       "      <td>0.000000</td>\n",
       "      <td>0.000000</td>\n",
       "      <td>100.000000</td>\n",
       "      <td>57.00000</td>\n",
       "      <td>32.000000</td>\n",
       "      <td>53.000000</td>\n",
       "      <td>6.000000</td>\n",
       "      <td>0.000000</td>\n",
       "      <td>10.000000</td>\n",
       "      <td>4.000000</td>\n",
       "    </tr>\n",
       "    <tr>\n",
       "      <th>50%</th>\n",
       "      <td>1.000000</td>\n",
       "      <td>2022.000000</td>\n",
       "      <td>6.000000</td>\n",
       "      <td>13.000000</td>\n",
       "      <td>2224.000000</td>\n",
       "      <td>3.000000</td>\n",
       "      <td>2.905309e+08</td>\n",
       "      <td>34.000000</td>\n",
       "      <td>38.000000</td>\n",
       "      <td>36.500000</td>\n",
       "      <td>0.000000</td>\n",
       "      <td>2.000000</td>\n",
       "      <td>121.000000</td>\n",
       "      <td>69.00000</td>\n",
       "      <td>51.000000</td>\n",
       "      <td>66.000000</td>\n",
       "      <td>18.000000</td>\n",
       "      <td>0.000000</td>\n",
       "      <td>12.000000</td>\n",
       "      <td>6.000000</td>\n",
       "    </tr>\n",
       "    <tr>\n",
       "      <th>75%</th>\n",
       "      <td>2.000000</td>\n",
       "      <td>2022.000000</td>\n",
       "      <td>9.000000</td>\n",
       "      <td>22.000000</td>\n",
       "      <td>5542.000000</td>\n",
       "      <td>16.000000</td>\n",
       "      <td>6.738690e+08</td>\n",
       "      <td>88.000000</td>\n",
       "      <td>87.000000</td>\n",
       "      <td>110.000000</td>\n",
       "      <td>2.000000</td>\n",
       "      <td>36.000000</td>\n",
       "      <td>140.000000</td>\n",
       "      <td>78.00000</td>\n",
       "      <td>70.000000</td>\n",
       "      <td>77.000000</td>\n",
       "      <td>43.000000</td>\n",
       "      <td>0.000000</td>\n",
       "      <td>24.000000</td>\n",
       "      <td>11.000000</td>\n",
       "    </tr>\n",
       "    <tr>\n",
       "      <th>max</th>\n",
       "      <td>8.000000</td>\n",
       "      <td>2023.000000</td>\n",
       "      <td>12.000000</td>\n",
       "      <td>31.000000</td>\n",
       "      <td>52898.000000</td>\n",
       "      <td>147.000000</td>\n",
       "      <td>3.703895e+09</td>\n",
       "      <td>672.000000</td>\n",
       "      <td>275.000000</td>\n",
       "      <td>974.000000</td>\n",
       "      <td>58.000000</td>\n",
       "      <td>953.000000</td>\n",
       "      <td>206.000000</td>\n",
       "      <td>96.00000</td>\n",
       "      <td>97.000000</td>\n",
       "      <td>97.000000</td>\n",
       "      <td>97.000000</td>\n",
       "      <td>91.000000</td>\n",
       "      <td>97.000000</td>\n",
       "      <td>64.000000</td>\n",
       "    </tr>\n",
       "  </tbody>\n",
       "</table>\n",
       "</div>"
      ],
      "text/plain": [
       "       artist_count  released_year  released_month  released_day  \\\n",
       "count    953.000000     953.000000      953.000000    953.000000   \n",
       "mean       1.556139    2018.238195        6.033578     13.930745   \n",
       "std        0.893044      11.116218        3.566435      9.201949   \n",
       "min        1.000000    1930.000000        1.000000      1.000000   \n",
       "25%        1.000000    2020.000000        3.000000      6.000000   \n",
       "50%        1.000000    2022.000000        6.000000     13.000000   \n",
       "75%        2.000000    2022.000000        9.000000     22.000000   \n",
       "max        8.000000    2023.000000       12.000000     31.000000   \n",
       "\n",
       "       in_spotify_playlists  in_spotify_charts       streams  \\\n",
       "count            953.000000         953.000000  9.520000e+02   \n",
       "mean            5200.124869          12.009444  5.141374e+08   \n",
       "std             7897.608990          19.575992  5.668569e+08   \n",
       "min               31.000000           0.000000  2.762000e+03   \n",
       "25%              875.000000           0.000000  1.416362e+08   \n",
       "50%             2224.000000           3.000000  2.905309e+08   \n",
       "75%             5542.000000          16.000000  6.738690e+08   \n",
       "max            52898.000000         147.000000  3.703895e+09   \n",
       "\n",
       "       in_apple_playlists  in_apple_charts  in_deezer_playlists  \\\n",
       "count          953.000000       953.000000           874.000000   \n",
       "mean            67.812172        51.908709           109.740275   \n",
       "std             86.441493        50.630241           178.811406   \n",
       "min              0.000000         0.000000             0.000000   \n",
       "25%             13.000000         7.000000            12.000000   \n",
       "50%             34.000000        38.000000            36.500000   \n",
       "75%             88.000000        87.000000           110.000000   \n",
       "max            672.000000       275.000000           974.000000   \n",
       "\n",
       "       in_deezer_charts  in_shazam_charts         bpm  danceability_%  \\\n",
       "count        953.000000        896.000000  953.000000       953.00000   \n",
       "mean           2.666317         51.176339  122.540399        66.96957   \n",
       "std            6.035599        126.487856   28.057802        14.63061   \n",
       "min            0.000000          0.000000   65.000000        23.00000   \n",
       "25%            0.000000          0.000000  100.000000        57.00000   \n",
       "50%            0.000000          2.000000  121.000000        69.00000   \n",
       "75%            2.000000         36.000000  140.000000        78.00000   \n",
       "max           58.000000        953.000000  206.000000        96.00000   \n",
       "\n",
       "        valence_%    energy_%  acousticness_%  instrumentalness_%  liveness_%  \\\n",
       "count  953.000000  953.000000      953.000000          953.000000  953.000000   \n",
       "mean    51.431270   64.279119       27.057712            1.581322   18.213012   \n",
       "std     23.480632   16.550526       25.996077            8.409800   13.711223   \n",
       "min      4.000000    9.000000        0.000000            0.000000    3.000000   \n",
       "25%     32.000000   53.000000        6.000000            0.000000   10.000000   \n",
       "50%     51.000000   66.000000       18.000000            0.000000   12.000000   \n",
       "75%     70.000000   77.000000       43.000000            0.000000   24.000000   \n",
       "max     97.000000   97.000000       97.000000           91.000000   97.000000   \n",
       "\n",
       "       speechiness_%  \n",
       "count     953.000000  \n",
       "mean       10.131165  \n",
       "std         9.912888  \n",
       "min         2.000000  \n",
       "25%         4.000000  \n",
       "50%         6.000000  \n",
       "75%        11.000000  \n",
       "max        64.000000  "
      ]
     },
     "execution_count": 90,
     "metadata": {},
     "output_type": "execute_result"
    }
   ],
   "source": [
    "numerical_cols.describe()"
   ]
  },
  {
   "cell_type": "markdown",
   "metadata": {},
   "source": [
    "### With each categorical column, how are values distributed?"
   ]
  },
  {
   "cell_type": "markdown",
   "metadata": {},
   "source": [
    "- Quick glance at categorical columns"
   ]
  },
  {
   "cell_type": "code",
   "execution_count": 91,
   "metadata": {},
   "outputs": [
    {
     "data": {
      "text/html": [
       "<div>\n",
       "<style scoped>\n",
       "    .dataframe tbody tr th:only-of-type {\n",
       "        vertical-align: middle;\n",
       "    }\n",
       "\n",
       "    .dataframe tbody tr th {\n",
       "        vertical-align: top;\n",
       "    }\n",
       "\n",
       "    .dataframe thead th {\n",
       "        text-align: right;\n",
       "    }\n",
       "</style>\n",
       "<table border=\"1\" class=\"dataframe\">\n",
       "  <thead>\n",
       "    <tr style=\"text-align: right;\">\n",
       "      <th></th>\n",
       "      <th>track_name</th>\n",
       "      <th>artist(s)_name</th>\n",
       "      <th>key</th>\n",
       "      <th>mode</th>\n",
       "    </tr>\n",
       "  </thead>\n",
       "  <tbody>\n",
       "    <tr>\n",
       "      <th>169</th>\n",
       "      <td>When I Was Your Man</td>\n",
       "      <td>Bruno Mars</td>\n",
       "      <td>nan</td>\n",
       "      <td>Major</td>\n",
       "    </tr>\n",
       "    <tr>\n",
       "      <th>413</th>\n",
       "      <td>PUNTO 40</td>\n",
       "      <td>Baby Rasta, Rauw Alejandro</td>\n",
       "      <td>nan</td>\n",
       "      <td>Major</td>\n",
       "    </tr>\n",
       "    <tr>\n",
       "      <th>938</th>\n",
       "      <td>Labyrinth</td>\n",
       "      <td>Taylor Swift</td>\n",
       "      <td>nan</td>\n",
       "      <td>Major</td>\n",
       "    </tr>\n",
       "    <tr>\n",
       "      <th>814</th>\n",
       "      <td>ZOOM</td>\n",
       "      <td>Jessi</td>\n",
       "      <td>F#</td>\n",
       "      <td>Major</td>\n",
       "    </tr>\n",
       "    <tr>\n",
       "      <th>442</th>\n",
       "      <td>Last Christmas</td>\n",
       "      <td>Wham!</td>\n",
       "      <td>B</td>\n",
       "      <td>Minor</td>\n",
       "    </tr>\n",
       "  </tbody>\n",
       "</table>\n",
       "</div>"
      ],
      "text/plain": [
       "              track_name              artist(s)_name  key   mode\n",
       "169  When I Was Your Man                  Bruno Mars  nan  Major\n",
       "413             PUNTO 40  Baby Rasta, Rauw Alejandro  nan  Major\n",
       "938            Labyrinth                Taylor Swift  nan  Major\n",
       "814                 ZOOM                       Jessi   F#  Major\n",
       "442       Last Christmas                       Wham!    B  Minor"
      ]
     },
     "execution_count": 91,
     "metadata": {},
     "output_type": "execute_result"
    }
   ],
   "source": [
    "categorical_cols = df[df.columns[df.dtypes == 'object']]\n",
    "categorical_cols.sample(5)"
   ]
  },
  {
   "cell_type": "markdown",
   "metadata": {},
   "source": [
    "- Missing values = 95"
   ]
  },
  {
   "cell_type": "code",
   "execution_count": 92,
   "metadata": {},
   "outputs": [
    {
     "data": {
      "text/plain": [
       "track_name         0\n",
       "artist(s)_name     0\n",
       "key               95\n",
       "mode               0\n",
       "dtype: int64"
      ]
     },
     "execution_count": 92,
     "metadata": {},
     "output_type": "execute_result"
    }
   ],
   "source": [
    "(categorical_cols == 'nan').sum()"
   ]
  },
  {
   "cell_type": "markdown",
   "metadata": {},
   "source": [
    "- The distribution of `track_name` is not significantly to plot"
   ]
  },
  {
   "cell_type": "code",
   "execution_count": 93,
   "metadata": {},
   "outputs": [
    {
     "data": {
      "text/plain": [
       "track_name\n",
       "Daylight                                  2\n",
       "About Damn Time                           2\n",
       "SNAP                                      2\n",
       "Take My Breath                            2\n",
       "Let It Snow! Let It Snow! Let It Snow!    2\n",
       "                                         ..\n",
       "Murder In My Mind                         1\n",
       "Gangsta's Paradise                        1\n",
       "CAIRO                                     1\n",
       "I Love You So                             1\n",
       "Alone                                     1\n",
       "Name: count, Length: 943, dtype: int64"
      ]
     },
     "execution_count": 93,
     "metadata": {},
     "output_type": "execute_result"
    }
   ],
   "source": [
    "categorical_cols.track_name.value_counts()"
   ]
  },
  {
   "cell_type": "markdown",
   "metadata": {},
   "source": [
    "- The distribution of `artist(s)_name`"
   ]
  },
  {
   "cell_type": "code",
   "execution_count": 94,
   "metadata": {},
   "outputs": [
    {
     "data": {
      "text/plain": [
       "artist(s)_name\n",
       "Taylor Swift                 34\n",
       "The Weeknd                   22\n",
       "Bad Bunny                    19\n",
       "SZA                          19\n",
       "Harry Styles                 17\n",
       "                             ..\n",
       "Karol G, Ovy On The Drums     1\n",
       "Coolio, L.V.                  1\n",
       "Kordhell                      1\n",
       "Kenia OS                      1\n",
       "Feid, Sech, Jhayco            1\n",
       "Name: count, Length: 645, dtype: int64"
      ]
     },
     "execution_count": 94,
     "metadata": {},
     "output_type": "execute_result"
    }
   ],
   "source": [
    "categorical_cols['artist(s)_name'].value_counts()"
   ]
  },
  {
   "cell_type": "markdown",
   "metadata": {},
   "source": [
    "- First 30 artist with highest numbers of songs"
   ]
  },
  {
   "cell_type": "code",
   "execution_count": 120,
   "metadata": {},
   "outputs": [
    {
     "data": {
      "image/png": "[encoded data removed]",
      "text/plain": [
       "<Figure size 640x480 with 1 Axes>"
      ]
     },
     "metadata": {},
     "output_type": "display_data"
    },
    {
     "data": {
      "text/plain": [
       "<Figure size 2000x1000 with 0 Axes>"
      ]
     },
     "metadata": {},
     "output_type": "display_data"
    }
   ],
   "source": [
    "artist_name_count = categorical_cols['artist(s)_name'].value_counts()[:30]\n",
    "plt.bar(artist_name_count.index, artist_name_count.values);\n",
    "plt.xticks(rotation=90)\n",
    "plt.xlabel('Artist(s) name')\n",
    "plt.ylabel('Counts')\n",
    "plt.title('The distribution of Artist(s) name')\n",
    "plt.figure(figsize=(20, 10))\n",
    "plt.show();"
   ]
  },
  {
   "cell_type": "markdown",
   "metadata": {},
   "source": [
    "- The distribution of `key`"
   ]
  },
  {
   "cell_type": "code",
   "execution_count": 96,
   "metadata": {},
   "outputs": [
    {
     "data": {
      "image/png": "[encoded data removed]",
      "text/plain": [
       "<Figure size 640x480 with 1 Axes>"
      ]
     },
     "metadata": {},
     "output_type": "display_data"
    },
    {
     "data": {
      "text/plain": [
       "<Figure size 2000x1000 with 0 Axes>"
      ]
     },
     "metadata": {},
     "output_type": "display_data"
    }
   ],
   "source": [
    "key_counts = categorical_cols['key'].value_counts()\n",
    "\n",
    "plt.bar(key_counts.index, key_counts.values);\n",
    "plt.xticks(rotation=90)\n",
    "plt.title('The distribution of key')\n",
    "plt.xlabel('key')\n",
    "plt.ylabel('Counts')\n",
    "plt.figure(figsize=(20, 10))\n",
    "plt.show();"
   ]
  },
  {
   "cell_type": "markdown",
   "metadata": {},
   "source": [
    "- The distribution of `mode`"
   ]
  },
  {
   "cell_type": "code",
   "execution_count": 119,
   "metadata": {},
   "outputs": [
    {
     "data": {
      "image/png": "[encoded data removed]",
      "text/plain": [
       "<Figure size 640x480 with 1 Axes>"
      ]
     },
     "metadata": {},
     "output_type": "display_data"
    },
    {
     "data": {
      "text/plain": [
       "<Figure size 2000x1000 with 0 Axes>"
      ]
     },
     "metadata": {},
     "output_type": "display_data"
    }
   ],
   "source": [
    "mode_counts = categorical_cols['mode'].value_counts()\n",
    "plt.bar(mode_counts.index, mode_counts.values);\n",
    "plt.xticks()\n",
    "plt.ylabel('Counts')\n",
    "plt.xlabel('Mode')\n",
    "plt.title('The distribution of mode')\n",
    "plt.figure(figsize=(20, 10))\n",
    "plt.show();"
   ]
  },
  {
   "cell_type": "markdown",
   "metadata": {},
   "source": [
    "#### What is the percentage of missing values?"
   ]
  },
  {
   "cell_type": "code",
   "execution_count": 110,
   "metadata": {},
   "outputs": [
    {
     "data": {
      "text/html": [
       "<div>\n",
       "<style scoped>\n",
       "    .dataframe tbody tr th:only-of-type {\n",
       "        vertical-align: middle;\n",
       "    }\n",
       "\n",
       "    .dataframe tbody tr th {\n",
       "        vertical-align: top;\n",
       "    }\n",
       "\n",
       "    .dataframe thead th {\n",
       "        text-align: right;\n",
       "    }\n",
       "</style>\n",
       "<table border=\"1\" class=\"dataframe\">\n",
       "  <thead>\n",
       "    <tr style=\"text-align: right;\">\n",
       "      <th></th>\n",
       "      <th>Percentage</th>\n",
       "    </tr>\n",
       "  </thead>\n",
       "  <tbody>\n",
       "    <tr>\n",
       "      <th>track_name</th>\n",
       "      <td>0.000000</td>\n",
       "    </tr>\n",
       "    <tr>\n",
       "      <th>artist(s)_name</th>\n",
       "      <td>0.000000</td>\n",
       "    </tr>\n",
       "    <tr>\n",
       "      <th>key</th>\n",
       "      <td>0.099685</td>\n",
       "    </tr>\n",
       "    <tr>\n",
       "      <th>mode</th>\n",
       "      <td>0.000000</td>\n",
       "    </tr>\n",
       "  </tbody>\n",
       "</table>\n",
       "</div>"
      ],
      "text/plain": [
       "                Percentage\n",
       "track_name        0.000000\n",
       "artist(s)_name    0.000000\n",
       "key               0.099685\n",
       "mode              0.000000"
      ]
     },
     "execution_count": 110,
     "metadata": {},
     "output_type": "execute_result"
    }
   ],
   "source": [
    "miss_categorical_cols = {}\n",
    "for col in categorical_cols.columns:\n",
    "  # print(f'{col}: {}')\n",
    "  miss_categorical_cols[col] = (df[col] == \"nan\").sum() / len(df)\n",
    "\n",
    "pd.DataFrame(miss_categorical_cols, index=['Percentage']).transpose()\n"
   ]
  },
  {
   "cell_type": "markdown",
   "metadata": {},
   "source": [
    "#### How many different values? Show a few"
   ]
  },
  {
   "cell_type": "code",
   "execution_count": 143,
   "metadata": {},
   "outputs": [
    {
     "name": "stdout",
     "output_type": "stream",
     "text": [
      "track_name\n",
      "Daylight                                  2\n",
      "About Damn Time                           2\n",
      "SNAP                                      2\n",
      "Take My Breath                            2\n",
      "Let It Snow! Let It Snow! Let It Snow!    2\n",
      "                                         ..\n",
      "Murder In My Mind                         1\n",
      "Gangsta's Paradise                        1\n",
      "CAIRO                                     1\n",
      "I Love You So                             1\n",
      "Alone                                     1\n",
      "Name: count, Length: 943, dtype: int64\n",
      "--------------------\n",
      "\n",
      "artist(s)_name\n",
      "Taylor Swift                 34\n",
      "The Weeknd                   22\n",
      "Bad Bunny                    19\n",
      "SZA                          19\n",
      "Harry Styles                 17\n",
      "                             ..\n",
      "Karol G, Ovy On The Drums     1\n",
      "Coolio, L.V.                  1\n",
      "Kordhell                      1\n",
      "Kenia OS                      1\n",
      "Feid, Sech, Jhayco            1\n",
      "Name: count, Length: 645, dtype: int64\n",
      "--------------------\n",
      "\n",
      "artist_count\n",
      "1    587\n",
      "2    254\n",
      "3     85\n",
      "4     15\n",
      "5      5\n",
      "6      3\n",
      "8      2\n",
      "7      2\n",
      "Name: count, dtype: int64\n",
      "--------------------\n",
      "\n",
      "released_year\n",
      "2022    402\n",
      "2023    175\n",
      "2021    119\n",
      "2020     37\n",
      "2019     36\n",
      "2017     23\n",
      "2016     18\n",
      "2014     13\n",
      "2013     13\n",
      "2015     11\n",
      "2018     10\n",
      "2012     10\n",
      "2011     10\n",
      "2010      7\n",
      "2002      6\n",
      "1999      5\n",
      "1984      4\n",
      "2000      4\n",
      "2004      4\n",
      "1963      3\n",
      "1958      3\n",
      "1995      2\n",
      "1970      2\n",
      "1959      2\n",
      "1985      2\n",
      "1957      2\n",
      "1986      2\n",
      "2003      2\n",
      "1991      2\n",
      "2008      2\n",
      "1975      2\n",
      "1982      2\n",
      "1946      1\n",
      "2005      1\n",
      "1942      1\n",
      "1996      1\n",
      "1998      1\n",
      "1950      1\n",
      "1979      1\n",
      "2007      1\n",
      "1952      1\n",
      "1971      1\n",
      "1994      1\n",
      "1930      1\n",
      "1973      1\n",
      "1997      1\n",
      "1968      1\n",
      "1992      1\n",
      "1983      1\n",
      "1987      1\n",
      "Name: count, dtype: int64\n",
      "--------------------\n",
      "\n",
      "released_month\n",
      "1     134\n",
      "5     128\n",
      "3      86\n",
      "6      86\n",
      "11     80\n",
      "12     75\n",
      "10     73\n",
      "4      66\n",
      "7      62\n",
      "2      61\n",
      "9      56\n",
      "8      46\n",
      "Name: count, dtype: int64\n",
      "--------------------\n",
      "\n"
     ]
    }
   ],
   "source": [
    "for idx, col in enumerate(df.columns, start=1):\n",
    "  print(df[col].value_counts())\n",
    "  print('--------------------')\n",
    "  print()\n",
    "  if idx % 5 == 0:\n",
    "    break"
   ]
  },
  {
   "cell_type": "markdown",
   "metadata": {},
   "source": [
    "#### Are they abnormal? "
   ]
  },
  {
   "cell_type": "markdown",
   "metadata": {},
   "source": [
    "- After visualizing and analyzing generally, we can make a conclusion that the dataset is suitable enough for us to use for training model and make questions and assumption from it. But before that, we need to preprocessing some values that have missing values in them"
   ]
  },
  {
   "cell_type": "markdown",
   "metadata": {},
   "source": [
    "### Data Preprocessing"
   ]
  }
 ],
 "metadata": {
  "kernelspec": {
   "display_name": "min_ds-env",
   "language": "python",
   "name": "python3"
  },
  "language_info": {
   "codemirror_mode": {
    "name": "ipython",
    "version": 3
   },
   "file_extension": ".py",
   "mimetype": "text/x-python",
   "name": "python",
   "nbconvert_exporter": "python",
   "pygments_lexer": "ipython3",
   "version": "3.9.18"
  }
 },
 "nbformat": 4,
 "nbformat_minor": 2
}
