{
 "cells": [
  {
   "cell_type": "markdown",
   "metadata": {},
   "source": [
    "# <p style=\"text-align: center;\"> Final Project - Programming for Data Science</p>\n",
    "### <p style=\"text-align: center;\"> <b> Question 3: How has music evolved over the years? 📈</b></p>\n",
    "\n",
    "\n",
    "---"
   ]
  },
  {
   "cell_type": "markdown",
   "metadata": {},
   "source": [
    "## Member Information\n",
    "| Name              | ID       |\n",
    "|-------------------|----------|\n",
    "| Nguyen Khanh Nhan | 21127657         |\n",
    "| Tran Dai Nien     | 21127664 |"
   ]
  },
  {
   "cell_type": "markdown",
   "metadata": {},
   "source": [
    "## Table of contents\n",
    "1. [Question](#1-question) <br> \n",
    "    1.1 [The purpose of the question](#11-the-purpose-of-the-question)<br>\n",
    "    1.2 [How to solve the question](#12-how-to-solve-the-question)\n",
    "2. [Solution](#2-solution) <br>\n",
    "    2.1 [Pre-processing data](#21-pre-processing-data)<br>\n",
    "    2.2 [Data analysis](#22-data-analysis)<br>\n",
    "    2.3 [Answer the question](#23-answer-the-question)<br>\n",
    "---"
   ]
  },
  {
   "cell_type": "markdown",
   "metadata": {},
   "source": [
    "## 1. Question"
   ]
  },
  {
   "cell_type": "markdown",
   "metadata": {},
   "source": [
    "<p style=\"font-size: 30px;\"><strong>📈 How has music evolved over the years?</strong></p>"
   ]
  },
  {
   "cell_type": "markdown",
   "metadata": {},
   "source": [
    "### 1.1 The purpose of the question"
   ]
  },
  {
   "cell_type": "markdown",
   "metadata": {},
   "source": [
    "✅Answering this question allows you to explore the evolution of `music genres`, `new trends`, and changes in `musical styles` or `music's features` over decades. It not only provides knowledge about the development of music but also helps you understand the **relationship** between `music` and the `factors/features` that contribute to creating a successful piece of music. This understanding lays the foundation for creativity and brings joy and discovery in exploring the world of music."
   ]
  },
  {
   "cell_type": "markdown",
   "metadata": {},
   "source": [
    "### 1.2 How to solve the question"
   ]
  },
  {
   "cell_type": "markdown",
   "metadata": {},
   "source": [
    "- Chúng ta sẽ xác định các yếu tố của một bài hát như `bmp`, `danceability`, `energy`, `valence`, `acousticness`, `instrumentalness`, `liveness` và `speechiness` và quan sát sự thay đổi của chúng qua các năm.\n",
    "- Ở mỗi năm, ta sẽ lấy giá trị trung bình của các bài hát trong năm đó và vẽ biểu đồ để quan sát sự thay đổi của từng yếu tố đó qua các năm.\n",
    "- Cuối cùng, ta sẽ đưa ra kết luận về sự thay đổi của các yếu tố đó qua các năm."
   ]
  },
  {
   "cell_type": "markdown",
   "metadata": {},
   "source": [
    "## 2. Solution"
   ]
  },
  {
   "cell_type": "markdown",
   "metadata": {},
   "source": [
    "### 2.1 Pre-processing data"
   ]
  },
  {
   "cell_type": "code",
   "execution_count": null,
   "metadata": {},
   "outputs": [],
   "source": [
    "song_features = ['bmp', 'danceability_%', '']"
   ]
  },
  {
   "cell_type": "markdown",
   "metadata": {},
   "source": [
    "### 2.2 Data analysis"
   ]
  },
  {
   "cell_type": "markdown",
   "metadata": {},
   "source": [
    "### 2.3 Answer the question"
   ]
  }
 ],
 "metadata": {
  "language_info": {
   "name": "python"
  }
 },
 "nbformat": 4,
 "nbformat_minor": 2
}
