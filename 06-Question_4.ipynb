{
 "cells": [
  {
   "cell_type": "markdown",
   "metadata": {},
   "source": [
    "# <p style=\"text-align: center;\"> Final Project - Programming for Data Science</p>\n",
    "### <p style=\"text-align: center;\"> <b> Question 4: How do the features of a song get influenced or change according to the seasons of the year?🌨️ </b></p>\n",
    "\n",
    "\n",
    "---"
   ]
  },
  {
   "cell_type": "markdown",
   "metadata": {},
   "source": [
    "## Member Information\n",
    "| Name              | ID       |\n",
    "|-------------------|----------|\n",
    "| Nguyen Khanh Nhan | 21127657         |\n",
    "| Tran Dai Nien     | 21127664 |"
   ]
  },
  {
   "cell_type": "markdown",
   "metadata": {},
   "source": [
    "## Table of contents\n",
    "1. [Question](#1-question) <br> \n",
    "    1.1 [The purpose of the question](#11-the-purpose-of-the-question)<br>\n",
    "    1.2 [How to solve the question](#12-how-to-solve-the-question)\n",
    "2. [Solution](#2-solution) <br>\n",
    "    2.1 [Pre-processing data](#21-pre-processing-data)<br>\n",
    "    2.2 [Data analysis](#22-data-analysis)<br>\n",
    "    2.3 [Answer the question](#23-answer-the-question)<br>\n",
    "---"
   ]
  },
  {
   "cell_type": "markdown",
   "metadata": {},
   "source": [
    "## 1. Question"
   ]
  },
  {
   "cell_type": "markdown",
   "metadata": {},
   "source": [
    "<p style=\"font-size: 20px;\"><strong>🌨️ How do the features of a song get influenced or change according to the seasons of the year?</strong></p>"
   ]
  },
  {
   "cell_type": "markdown",
   "metadata": {},
   "source": [
    "### 1.1 The purpose of the question"
   ]
  },
  {
   "cell_type": "markdown",
   "metadata": {},
   "source": [
    "✅ Answering this question helps you understand how music features are influenced or changed according to the seasons of the year. You can identify `trends`, `variations`, and `shifts` in music corresponding to each season. <br>\n",
    "✅ By analyzing music features such as `BPM`, `danceability`, `energy`,... across seasons, we can discover differences and relationships between music elements and the seasons. This can help you recognize characteristic musical traits for each season and how music can adapt to fit the seasonal context. <br>\n",
    "✅ Understanding how music features change with the seasons can inspire music composers. You can apply this knowledge to create seasonally appropriate music, providing a deep and harmonious musical experience that aligns with the weather and moods of each season."
   ]
  },
  {
   "cell_type": "markdown",
   "metadata": {},
   "source": [
    "### 1.2 How to solve the question"
   ]
  },
  {
   "cell_type": "markdown",
   "metadata": {},
   "source": [
    "- Đầu tiên ta sẽ thực hiện gom nhóm các bài hát theo mùa trong năm. Cụ thể, ta sẽ chia 4 mùa trong năm là `Spring`, `Summer`, `Autumn`, `Winter` và gom nhóm các bài hát theo mùa dựa trên `tháng` mà bài hát được phát hành. <br>\n",
    "- Sau đó, ta sẽ thực hiện phân tích các `music features` của các bài hát trong từng mùa. Cụ thể, ta sẽ phân tích các `music features` như `BPM`, `danceability`, `energy`,... của các bài hát trong từng mùa. <br>\n",
    "- Với mỗi `music feature`, "
   ]
  },
  {
   "cell_type": "markdown",
   "metadata": {},
   "source": [
    "## 2. Solution"
   ]
  },
  {
   "cell_type": "markdown",
   "metadata": {},
   "source": [
    "### 2.1 Pre-processing data"
   ]
  },
  {
   "cell_type": "markdown",
   "metadata": {},
   "source": [
    "### 2.2 Data analysis"
   ]
  },
  {
   "cell_type": "markdown",
   "metadata": {},
   "source": [
    "### 2.3 Answer the question"
   ]
  }
 ],
 "metadata": {
  "language_info": {
   "name": "python"
  }
 },
 "nbformat": 4,
 "nbformat_minor": 2
}
