{
 "cells": [
  {
   "cell_type": "markdown",
   "metadata": {},
   "source": [
    "\n",
    "<div style=\"text-align: center; color: white; background-color: #559cff; font-weight: bold; padding: 20px\" >\n",
    " <p style=\"font-size: 40px\"> Final Project - Programming for Data Science 📚</p>\n",
    " <p style=\"font-size: 25px\"><u>Question 4:</u> In the top 5 artists with the highest number of streams on Spotify, what are the similarities and differences in the features of their songs?🔝</p>\n",
    "\n",
    "</div>\n",
    "\n",
    "---"
   ]
  },
  {
   "cell_type": "markdown",
   "metadata": {},
   "source": [
    "## Member Information\n",
    "| Name              | ID       |\n",
    "|-------------------|----------|\n",
    "| Nguyen Khanh Nhan | 21127657         |\n",
    "| Tran Dai Nien     | 21127664 |"
   ]
  },
  {
   "cell_type": "markdown",
   "metadata": {},
   "source": [
    "## Table of contents\n",
    "1. [Question](#1-question) <br> \n",
    "    1.1 [The purpose of the question](#11-the-purpose-of-the-question)<br>\n",
    "    1.2 [How to solve the question](#12-how-to-solve-the-question)\n",
    "2. [Solution](#2-solution) <br>\n",
    "    2.1 [Pre-processing data](#21-pre-processing-data)<br>\n",
    "    2.2 [Data analysis](#22-data-analysis)<br>\n",
    "    2.3 [Answer the question](#23-answer-the-question)<br>\n",
    "---"
   ]
  },
  {
   "cell_type": "markdown",
   "metadata": {},
   "source": [
    "## 1. Question"
   ]
  },
  {
   "cell_type": "markdown",
   "metadata": {},
   "source": [
    "<p style=\"font-size: 20px;\"><strong>🔝 In the top 5 artists with the highest number of streams on Spotify, what are the similarities and differences in the features of their songs?</strong></p>"
   ]
  },
  {
   "cell_type": "markdown",
   "metadata": {},
   "source": [
    "### 1.1 The purpose of the question"
   ]
  },
  {
   "cell_type": "markdown",
   "metadata": {},
   "source": [
    "✅ Answering this question will provide you with an overview of the `music styles`, `characteristics`, and `trends` of the top 5 most-streamed artists on `Spotify`. You can identify common and unique elements in their music. <br>\n",
    "✅ By comparing features such as `danceability`, `valence`, `liveness`, `energy`, ..., you can uncover similarities and differences among the songs of these top artists. This helps you gain a better understanding of how these musical features impact the success and appeal of a song. <br>\n",
    "✅ Top artists typically have a large audience, so analyzing their musical features provides insights into the musical preferences of the public. You can identify popular musical elements favored by listeners and apply that knowledge to create and distribute music effectively."
   ]
  },
  {
   "cell_type": "markdown",
   "metadata": {},
   "source": [
    "### 1.2 How to solve the question"
   ]
  },
  {
   "cell_type": "markdown",
   "metadata": {},
   "source": []
  },
  {
   "cell_type": "markdown",
   "metadata": {},
   "source": [
    "## 2. Solution"
   ]
  },
  {
   "cell_type": "markdown",
   "metadata": {},
   "source": [
    "### 2.1 Pre-processing data"
   ]
  },
  {
   "cell_type": "markdown",
   "metadata": {},
   "source": [
    "### 2.2 Data analysis"
   ]
  },
  {
   "cell_type": "markdown",
   "metadata": {},
   "source": [
    "### 2.3 Answer the question"
   ]
  }
 ],
 "metadata": {
  "kernelspec": {
   "display_name": "Python 3",
   "language": "python",
   "name": "python3"
  },
  "language_info": {
   "name": "python",
   "version": "3.10.11"
  }
 },
 "nbformat": 4,
 "nbformat_minor": 2
}
